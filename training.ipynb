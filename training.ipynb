{
 "cells": [
  {
   "cell_type": "code",
   "execution_count": 1,
   "metadata": {},
   "outputs": [],
   "source": [
    "import os\n",
    "import torch\n",
    "import torch.nn as nn\n",
    "import torch.nn.functional as F\n",
    "import torchvision\n",
    "from torchvision import transforms\n",
    "from torchvision.utils import save_image\n",
    "import torch.nn.utils.prune as prune\n",
    "import pandas as pd\n",
    "import numpy as np\n",
    "import matplotlib.pyplot as plt\n",
    "import torch.onnx\n",
    "def show(img):\n",
    "    npimg = img.numpy()\n",
    "    plt.imshow(np.transpose(npimg, (1,2,0)), interpolation='nearest')"
   ]
  },
  {
   "cell_type": "code",
   "execution_count": 2,
   "metadata": {},
   "outputs": [],
   "source": [
    "# Device configuration\n",
    "device = torch.device('cuda' if torch.cuda.is_available() else 'cpu')\n",
    "# Create a directory if not exists\n",
    "sample_dir = 'samples'\n",
    "if not os.path.exists(sample_dir):\n",
    "    os.makedirs(sample_dir)"
   ]
  },
  {
   "cell_type": "code",
   "execution_count": 3,
   "metadata": {},
   "outputs": [
    {
     "name": "stderr",
     "output_type": "stream",
     "text": [
      "/home/timo/.local/lib/python3.8/site-packages/torchvision/datasets/mnist.py:58: UserWarning: train_data has been renamed data\n",
      "  warnings.warn(\"train_data has been renamed data\")\n",
      "/home/timo/.local/lib/python3.8/site-packages/torchvision/datasets/mnist.py:48: UserWarning: train_labels has been renamed targets\n",
      "  warnings.warn(\"train_labels has been renamed targets\")\n",
      "/home/timo/.local/lib/python3.8/site-packages/torchvision/datasets/mnist.py:63: UserWarning: test_data has been renamed data\n",
      "  warnings.warn(\"test_data has been renamed data\")\n",
      "/home/timo/.local/lib/python3.8/site-packages/torchvision/datasets/mnist.py:53: UserWarning: test_labels has been renamed targets\n",
      "  warnings.warn(\"test_labels has been renamed targets\")\n"
     ]
    }
   ],
   "source": [
    "\n",
    "data_dir = 'data'\n",
    "# MNIST dataset\n",
    "dataset = torchvision.datasets.MNIST(root=data_dir,\n",
    "                                     train=True,\n",
    "                                     transform=transforms.ToTensor(),\n",
    "                                     download=True)\n",
    "train_data = (dataset.train_data/255.).to(device)\n",
    "train_labels = dataset.train_labels.to(device)\n",
    "testset = torchvision.datasets.MNIST(data_dir, train=False, download=True, transform=transforms.ToTensor())\n",
    "test_data = (testset.test_data/255.).to(device)\n",
    "test_labels = testset.test_labels.to(device)"
   ]
  },
  {
   "cell_type": "code",
   "execution_count": 4,
   "metadata": {},
   "outputs": [],
   "source": [
    "#the network uses masks to avoid training some weights. \n",
    "class Net(nn.Module):\n",
    "    def __init__(self):\n",
    "        super(Net, self).__init__()\n",
    "        self.conv1 = nn.Conv2d(1, 6, 5, bias=False)\n",
    "        self.pool = nn.MaxPool2d(2, 2)\n",
    "        self.conv2 = nn.Conv2d(6, 16, 5, bias=False)\n",
    "        self.conv3 = nn.Conv2d(16, 120, 4, bias=False)\n",
    "        self.fc1 = nn.Linear(120, 84, bias=False)\n",
    "        self.fc2 = nn.Linear(84, 10, bias=False)\n",
    "\n",
    "    def forward(self, x):\n",
    "        x = self.pool(F.relu(self.conv1(x)))\n",
    "        x = self.pool(F.relu(self.conv2(x)))\n",
    "        x = F.relu(self.conv3(x))\n",
    "        x = x.view(-1, 120)\n",
    "        x = F.relu(self.fc1(x))\n",
    "        x = self.fc2(x)\n",
    "        return x\n",
    "    def prune_weights(self, amount):\n",
    "        parameters_to_prune = (\n",
    "            (self.conv1, 'weight'),\n",
    "            (self.conv2, 'weight'),\n",
    "            (self.conv3, 'weight'),\n",
    "            (self.fc1, 'weight'),\n",
    "            (self.fc2, 'weight'),\n",
    "        )\n",
    "\n",
    "        prune.global_unstructured(\n",
    "            parameters_to_prune,\n",
    "            pruning_method=prune.L1Unstructured,\n",
    "            amount=amount,\n",
    "        )"
   ]
  },
  {
   "cell_type": "code",
   "execution_count": 5,
   "metadata": {},
   "outputs": [],
   "source": [
    "import random\n",
    "def iter_batch(L1, L2, batch_size, shuffle = False):\n",
    "    I = list(range(len(L1)//batch_size))\n",
    "    if shuffle:\n",
    "        random.shuffle(I)\n",
    "    for i in I:\n",
    "        yield L1[batch_size*i:batch_size*(i+1), None], L2[batch_size*i:batch_size*(i+1)]"
   ]
  },
  {
   "cell_type": "code",
   "execution_count": 6,
   "metadata": {},
   "outputs": [],
   "source": [
    "def test(model, test_data, test_labels):\n",
    "    correct = 0\n",
    "    total = 0\n",
    "    with torch.no_grad():\n",
    "        for data, labels in iter_batch(test_data, test_labels, 10):\n",
    "            outputs = model(data)\n",
    "            _, predicted = torch.max(outputs.data, 1)\n",
    "\n",
    "            total += labels.size(0)\n",
    "            correct += (predicted == labels).sum().item()\n",
    "\n",
    "    print('Accuracy of the network on the %d test images: %f %%' % (\n",
    "        len(test_data), 100 * correct / total))\n",
    "    return 100 * correct / total"
   ]
  },
  {
   "cell_type": "code",
   "execution_count": 7,
   "metadata": {},
   "outputs": [],
   "source": [
    "def n_params(model):\n",
    "    print(\"Layer conv1 : \", torch.sum(model.conv1.weight_mask).item(), \" / \", torch.sum(1*model.conv1.weight_mask >= 0).item())\n",
    "    print(\"Layer conv2 : \", torch.sum(model.conv2.weight_mask).item(), \" / \", torch.sum(1*model.conv2.weight_mask >= 0).item())\n",
    "    print(\"Layer conv3 : \", torch.sum(model.conv3.weight_mask).item(), \" / \", torch.sum(1*model.conv3.weight_mask >= 0).item())\n",
    "    print(\"Layer fc1 : \", torch.sum(model.fc1.weight_mask).item(), \" / \", torch.sum(1*model.fc1.weight_mask >= 0).item())\n",
    "    print(\"Layer fc2 : \", torch.sum(model.fc2.weight_mask).item(), \" / \", torch.sum(1*model.fc2.weight_mask >= 0).item())"
   ]
  },
  {
   "cell_type": "markdown",
   "metadata": {},
   "source": [
    "Initial training of the network"
   ]
  },
  {
   "cell_type": "code",
   "execution_count": 8,
   "metadata": {
    "scrolled": false
   },
   "outputs": [
    {
     "name": "stdout",
     "output_type": "stream",
     "text": [
      "Accuracy of the network on the 10000 test images: 97.170000 %\n",
      "Accuracy of the network on the 10000 test images: 97.940000 %\n",
      "Accuracy of the network on the 10000 test images: 98.320000 %\n",
      "Pruned 20% of weights\n",
      "Accuracy of the network on the 10000 test images: 98.310000 %\n",
      "Accuracy of the network on the 10000 test images: 98.850000 %\n",
      "Accuracy of the network on the 10000 test images: 98.680000 %\n",
      "Accuracy of the network on the 10000 test images: 98.360000 %\n",
      "Pruned 20% of weights\n",
      "Accuracy of the network on the 10000 test images: 98.370000 %\n",
      "Accuracy of the network on the 10000 test images: 98.930000 %\n",
      "Accuracy of the network on the 10000 test images: 98.680000 %\n",
      "Accuracy of the network on the 10000 test images: 98.800000 %\n",
      "Pruned 20% of weights\n",
      "Accuracy of the network on the 10000 test images: 98.800000 %\n",
      "Accuracy of the network on the 10000 test images: 98.590000 %\n",
      "Accuracy of the network on the 10000 test images: 98.930000 %\n",
      "Accuracy of the network on the 10000 test images: 98.540000 %\n",
      "Pruned 20% of weights\n",
      "Accuracy of the network on the 10000 test images: 98.520000 %\n",
      "Accuracy of the network on the 10000 test images: 98.920000 %\n",
      "Accuracy of the network on the 10000 test images: 98.640000 %\n",
      "Accuracy of the network on the 10000 test images: 98.160000 %\n",
      "Pruned 20% of weights\n",
      "Accuracy of the network on the 10000 test images: 97.710000 %\n",
      "Accuracy of the network on the 10000 test images: 98.920000 %\n",
      "Accuracy of the network on the 10000 test images: 98.960000 %\n",
      "Accuracy of the network on the 10000 test images: 98.400000 %\n",
      "Pruned 20% of weights\n",
      "Accuracy of the network on the 10000 test images: 97.900000 %\n",
      "Accuracy of the network on the 10000 test images: 98.680000 %\n",
      "Accuracy of the network on the 10000 test images: 98.780000 %\n",
      "Accuracy of the network on the 10000 test images: 98.820000 %\n",
      "Pruned 20% of weights\n",
      "Accuracy of the network on the 10000 test images: 98.290000 %\n",
      "Accuracy of the network on the 10000 test images: 99.050000 %\n",
      "Accuracy of the network on the 10000 test images: 98.940000 %\n",
      "Accuracy of the network on the 10000 test images: 99.000000 %\n",
      "Pruned 20% of weights\n",
      "Accuracy of the network on the 10000 test images: 98.470000 %\n",
      "Accuracy of the network on the 10000 test images: 98.810000 %\n",
      "Accuracy of the network on the 10000 test images: 98.760000 %\n",
      "Accuracy of the network on the 10000 test images: 98.960000 %\n",
      "Pruned 20% of weights\n",
      "Accuracy of the network on the 10000 test images: 98.650000 %\n",
      "Accuracy of the network on the 10000 test images: 99.010000 %\n",
      "Accuracy of the network on the 10000 test images: 98.920000 %\n",
      "Accuracy of the network on the 10000 test images: 98.960000 %\n",
      "Pruned 20% of weights\n",
      "Accuracy of the network on the 10000 test images: 98.550000 %\n",
      "Accuracy of the network on the 10000 test images: 98.790000 %\n",
      "Accuracy of the network on the 10000 test images: 98.900000 %\n",
      "Accuracy of the network on the 10000 test images: 98.970000 %\n",
      "Pruned 20% of weights\n",
      "Accuracy of the network on the 10000 test images: 98.470000 %\n",
      "Accuracy of the network on the 10000 test images: 98.660000 %\n",
      "Accuracy of the network on the 10000 test images: 98.760000 %\n",
      "Accuracy of the network on the 10000 test images: 98.880000 %\n",
      "Pruned 20% of weights\n",
      "Accuracy of the network on the 10000 test images: 98.350000 %\n",
      "Accuracy of the network on the 10000 test images: 98.840000 %\n",
      "Accuracy of the network on the 10000 test images: 98.910000 %\n",
      "Accuracy of the network on the 10000 test images: 98.800000 %\n",
      "Pruned 20% of weights\n",
      "Accuracy of the network on the 10000 test images: 97.710000 %\n",
      "Accuracy of the network on the 10000 test images: 98.850000 %\n",
      "Accuracy of the network on the 10000 test images: 98.770000 %\n",
      "Accuracy of the network on the 10000 test images: 98.880000 %\n",
      "Pruned 20% of weights\n",
      "Accuracy of the network on the 10000 test images: 96.980000 %\n",
      "Accuracy of the network on the 10000 test images: 98.670000 %\n",
      "Accuracy of the network on the 10000 test images: 98.600000 %\n",
      "Accuracy of the network on the 10000 test images: 98.760000 %\n",
      "Pruned 20% of weights\n",
      "Accuracy of the network on the 10000 test images: 96.090000 %\n",
      "Accuracy of the network on the 10000 test images: 98.490000 %\n",
      "Accuracy of the network on the 10000 test images: 98.760000 %\n",
      "Accuracy of the network on the 10000 test images: 98.840000 %\n",
      "Pruned 20% of weights\n",
      "Accuracy of the network on the 10000 test images: 92.300000 %\n",
      "Accuracy of the network on the 10000 test images: 98.700000 %\n",
      "Accuracy of the network on the 10000 test images: 98.580000 %\n",
      "Accuracy of the network on the 10000 test images: 98.650000 %\n",
      "Pruned 20% of weights\n",
      "Accuracy of the network on the 10000 test images: 95.440000 %\n",
      "Accuracy of the network on the 10000 test images: 98.280000 %\n",
      "Accuracy of the network on the 10000 test images: 98.330000 %\n",
      "Accuracy of the network on the 10000 test images: 98.340000 %\n",
      "Pruned 20% of weights\n",
      "Accuracy of the network on the 10000 test images: 93.400000 %\n",
      "Accuracy of the network on the 10000 test images: 98.230000 %\n",
      "Accuracy of the network on the 10000 test images: 98.350000 %\n",
      "Accuracy of the network on the 10000 test images: 98.410000 %\n",
      "Accuracy of the network on the 10000 test images: 98.400000 %\n",
      "Accuracy of the network on the 10000 test images: 98.470000 %\n",
      "Accuracy of the network on the 10000 test images: 98.410000 %\n",
      "Accuracy of the network on the 10000 test images: 98.440000 %\n",
      "Accuracy of the network on the 10000 test images: 98.470000 %\n",
      "Accuracy of the network on the 10000 test images: 98.480000 %\n",
      "Accuracy of the network on the 10000 test images: 98.480000 %\n",
      "Accuracy of the network on the 10000 test images: 98.530000 %\n",
      "Accuracy of the network on the 10000 test images: 98.510000 %\n",
      "Accuracy of the network on the 10000 test images: 98.520000 %\n",
      "Accuracy of the network on the 10000 test images: 98.460000 %\n",
      "Accuracy of the network on the 10000 test images: 98.450000 %\n"
     ]
    }
   ],
   "source": [
    "import torch.optim as optim\n",
    "batch_size = 64\n",
    "criterion = nn.CrossEntropyLoss()\n",
    "net = Net().to(device)\n",
    "optimizer = optim.SGD(net.parameters(), lr=1.5e-2, momentum=0.9, weight_decay=2e-3)\n",
    "n_epochs = 3\n",
    "final_epochs = 15\n",
    "n_prune = 18\n",
    "for i_prune in range(n_prune):\n",
    "    for epoch in range(n_epochs):  # loop over the dataset multiple times\n",
    "                for inputs, labels in iter_batch(train_data, train_labels, batch_size, shuffle=True):\n",
    "                        optimizer.zero_grad()\n",
    "                        output = net(inputs)\n",
    "                        loss = criterion(output, labels)\n",
    "                        loss.backward()\n",
    "                        optimizer.step()\n",
    "                test(net, test_data, test_labels)\n",
    "    net.prune_weights(0.2)\n",
    "    print(\"Pruned 20% of weights\")\n",
    "    test(net, test_data, test_labels)\n",
    "#final training phase with low learning rate\n",
    "optimizer = optim.SGD(net.parameters(), lr=5e-3)\n",
    "batch_size = 32\n",
    "for epoch in range(final_epochs):  # loop over the dataset multiple times\n",
    "        for inputs, labels in iter_batch(train_data, train_labels, batch_size, shuffle=True):\n",
    "                optimizer.zero_grad()\n",
    "                output = net(inputs)\n",
    "                loss = criterion(output, labels)\n",
    "                loss.backward()\n",
    "                optimizer.step()\n",
    "        test(net, test_data, test_labels)"
   ]
  },
  {
   "cell_type": "code",
   "execution_count": 9,
   "metadata": {
    "scrolled": true
   },
   "outputs": [
    {
     "name": "stdout",
     "output_type": "stream",
     "text": [
      "Layer conv1 :  87.0  /  150\n",
      "Layer conv2 :  199.0  /  2400\n",
      "Layer conv3 :  246.0  /  30720\n",
      "Layer fc1 :  171.0  /  10080\n",
      "Layer fc2 :  93.0  /  840\n"
     ]
    }
   ],
   "source": [
    "n_params(net)"
   ]
  },
  {
   "cell_type": "code",
   "execution_count": 10,
   "metadata": {},
   "outputs": [
    {
     "name": "stdout",
     "output_type": "stream",
     "text": [
      "graph(%input : Float(1:784, 1:784, 28:28, 28:1, requires_grad=0, device=cpu),\n",
      "      %37 : Float(6:25, 1:25, 5:5, 5:1, requires_grad=0, device=cpu),\n",
      "      %39 : Float(16:150, 6:25, 5:5, 5:1, requires_grad=0, device=cpu),\n",
      "      %41 : Float(120:256, 16:16, 4:4, 4:1, requires_grad=0, device=cpu),\n",
      "      %44 : Float(120:1, 84:120, requires_grad=0, device=cpu),\n",
      "      %47 : Float(84:1, 10:84, requires_grad=0, device=cpu)):\n",
      "  %13 : Float(1:3456, 6:576, 24:24, 24:1, requires_grad=1, device=cpu) = onnx::Conv[dilations=[1, 1], group=1, kernel_shape=[5, 5], pads=[0, 0, 0, 0], strides=[1, 1]](%input, %37) # /home/timo/.local/lib/python3.8/site-packages/torch/nn/modules/conv.py:419:0\n",
      "  %14 : Float(1:3456, 6:576, 24:24, 24:1, requires_grad=1, device=cpu) = onnx::Relu(%13) # /home/timo/.local/lib/python3.8/site-packages/torch/nn/functional.py:1136:0\n",
      "  %15 : Float(1:864, 6:144, 12:12, 12:1, requires_grad=1, device=cpu) = onnx::MaxPool[ceil_mode=0, kernel_shape=[2, 2], pads=[0, 0, 0, 0], strides=[2, 2]](%14) # /home/timo/.local/lib/python3.8/site-packages/torch/nn/functional.py:585:0\n",
      "  %18 : Float(1:1024, 16:64, 8:8, 8:1, requires_grad=1, device=cpu) = onnx::Conv[dilations=[1, 1], group=1, kernel_shape=[5, 5], pads=[0, 0, 0, 0], strides=[1, 1]](%15, %39) # /home/timo/.local/lib/python3.8/site-packages/torch/nn/modules/conv.py:419:0\n",
      "  %19 : Float(1:1024, 16:64, 8:8, 8:1, requires_grad=1, device=cpu) = onnx::Relu(%18) # /home/timo/.local/lib/python3.8/site-packages/torch/nn/functional.py:1136:0\n",
      "  %20 : Float(1:256, 16:16, 4:4, 4:1, requires_grad=1, device=cpu) = onnx::MaxPool[ceil_mode=0, kernel_shape=[2, 2], pads=[0, 0, 0, 0], strides=[2, 2]](%19) # /home/timo/.local/lib/python3.8/site-packages/torch/nn/functional.py:585:0\n",
      "  %23 : Float(1:120, 120:1, 1:1, 1:1, requires_grad=1, device=cpu) = onnx::Conv[dilations=[1, 1], group=1, kernel_shape=[4, 4], pads=[0, 0, 0, 0], strides=[1, 1]](%20, %41) # /home/timo/.local/lib/python3.8/site-packages/torch/nn/modules/conv.py:419:0\n",
      "  %24 : Float(1:120, 120:1, 1:1, 1:1, requires_grad=1, device=cpu) = onnx::Relu(%23) # /home/timo/.local/lib/python3.8/site-packages/torch/nn/functional.py:1136:0\n",
      "  %25 : Tensor = onnx::Constant[value=  -1  120 [ CPULongType{2} ]]()\n",
      "  %26 : Float(1:120, 120:1, requires_grad=1, device=cpu) = onnx::Reshape(%24, %25) # <ipython-input-4-77609e493ac5>:16:0\n",
      "  %30 : Float(1:84, 84:1, requires_grad=1, device=cpu) = onnx::MatMul(%26, %44) # /home/timo/.local/lib/python3.8/site-packages/torch/nn/functional.py:1692:0\n",
      "  %31 : Float(1:84, 84:1, requires_grad=1, device=cpu) = onnx::Relu(%30) # /home/timo/.local/lib/python3.8/site-packages/torch/nn/functional.py:1136:0\n",
      "  %output : Float(1:10, 10:1, requires_grad=1, device=cpu) = onnx::MatMul(%31, %47) # /home/timo/.local/lib/python3.8/site-packages/torch/nn/functional.py:1692:0\n",
      "  return (%output)\n",
      "\n"
     ]
    }
   ],
   "source": [
    "dummy_input = torch.randn(1, 1, 28, 28)\n",
    "torch.onnx.export(net,               # model being run\n",
    "                  dummy_input,                         # model input (or a tuple for multiple inputs)\n",
    "                  \"net.onnx\",   # where to save the model (can be a file or file-like object)\n",
    "                  export_params=True,        # store the trained parameter weights inside the model file\n",
    "                  opset_version=10,          # the ONNX version to export the model to\n",
    "                  do_constant_folding=True,  # whether to execute constant folding for optimization\n",
    "                  input_names = ['input'],   # the model's input names\n",
    "                  output_names = ['output'], # the model's output names\n",
    "                  verbose=True\n",
    "                 )\n"
   ]
  },
  {
   "cell_type": "code",
   "execution_count": 28,
   "metadata": {},
   "outputs": [
    {
     "name": "stdout",
     "output_type": "stream",
     "text": [
      "tensor([[-4.1751, -0.0403,  0.7811,  2.3847, -1.4277, -2.4714, -7.6809, 15.5948,\n",
      "         -3.1924,  2.2708]], grad_fn=<MmBackward>)\n"
     ]
    }
   ],
   "source": [
    "x = test_data[None, 0:1]\n",
    "x = net.pool(F.relu(net.conv1(x)))\n",
    "x = net.pool(F.relu(net.conv2(x)))\n",
    "x = F.relu(net.conv3(x))\n",
    "x = x.view(-1, 120)\n",
    "x = F.relu(net.fc1(x))\n",
    "x = net.fc2(x)\n",
    "print(x)"
   ]
  },
  {
   "cell_type": "code",
   "execution_count": 38,
   "metadata": {},
   "outputs": [],
   "source": [
    "import pickle\n",
    "\n",
    "pkl_file = open('training_data/conv1_weights.pkl', 'wb')\n",
    "pickle.dump(net.conv1.weight.data.cpu().detach().numpy().tolist(), pkl_file)\n",
    "pkl_file.close()\n",
    "\n",
    "pkl_file = open('training_data/conv2_weights.pkl', 'wb')\n",
    "pickle.dump(net.conv2.weight.data.cpu().detach().numpy().tolist(), pkl_file)\n",
    "pkl_file.close()\n",
    "\n",
    "pkl_file = open('training_data/conv3_weights.pkl', 'wb')\n",
    "pickle.dump(net.conv3.weight.data.cpu().detach().numpy().tolist(), pkl_file)\n",
    "pkl_file.close()\n",
    "\n",
    "pkl_file = open('training_data/fc1_weights.pkl', 'wb')\n",
    "pickle.dump(net.fc1.weight.data.cpu().detach().numpy().tolist(), pkl_file)\n",
    "pkl_file.close()\n",
    "\n",
    "pkl_file = open('training_data/fc2_weights.pkl', 'wb')\n",
    "pickle.dump(net.fc2.weight.data.cpu().detach().numpy().tolist(), pkl_file)\n",
    "pkl_file.close()"
   ]
  }
 ],
 "metadata": {
  "kernelspec": {
   "display_name": "Python 3",
   "language": "python",
   "name": "python3"
  },
  "language_info": {
   "codemirror_mode": {
    "name": "ipython",
    "version": 3
   },
   "file_extension": ".py",
   "mimetype": "text/x-python",
   "name": "python",
   "nbconvert_exporter": "python",
   "pygments_lexer": "ipython3",
   "version": "3.8.5"
  }
 },
 "nbformat": 4,
 "nbformat_minor": 4
}
