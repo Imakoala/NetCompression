{
 "cells": [
  {
   "cell_type": "code",
   "execution_count": 11,
   "metadata": {},
   "outputs": [],
   "source": [
    "import os\n",
    "import torch\n",
    "import torch.nn as nn\n",
    "import torch.nn.functional as F\n",
    "import torchvision\n",
    "from torchvision import transforms\n",
    "from torchvision.utils import save_image\n",
    "import torch.nn.utils.prune as prune\n",
    "import pandas as pd\n",
    "import numpy as np\n",
    "import matplotlib.pyplot as plt\n",
    "\n",
    "def show(img):\n",
    "    npimg = img.numpy()\n",
    "    plt.imshow(np.transpose(npimg, (1,2,0)), interpolation='nearest')"
   ]
  },
  {
   "cell_type": "code",
   "execution_count": 2,
   "metadata": {},
   "outputs": [],
   "source": [
    "# Device configuration\n",
    "device = torch.device('cuda' if torch.cuda.is_available() else 'cpu')\n",
    "# Create a directory if not exists\n",
    "sample_dir = 'samples'\n",
    "if not os.path.exists(sample_dir):\n",
    "    os.makedirs(sample_dir)"
   ]
  },
  {
   "cell_type": "code",
   "execution_count": 3,
   "metadata": {},
   "outputs": [
    {
     "name": "stdout",
     "output_type": "stream",
     "text": [
      "Downloading http://yann.lecun.com/exdb/mnist/train-images-idx3-ubyte.gz to data/MNIST/raw/train-images-idx3-ubyte.gz\n"
     ]
    },
    {
     "name": "stderr",
     "output_type": "stream",
     "text": [
      "100.1%"
     ]
    },
    {
     "name": "stdout",
     "output_type": "stream",
     "text": [
      "Extracting data/MNIST/raw/train-images-idx3-ubyte.gz to data/MNIST/raw\n",
      "Downloading http://yann.lecun.com/exdb/mnist/train-labels-idx1-ubyte.gz to data/MNIST/raw/train-labels-idx1-ubyte.gz\n"
     ]
    },
    {
     "name": "stderr",
     "output_type": "stream",
     "text": [
      "113.5%"
     ]
    },
    {
     "name": "stdout",
     "output_type": "stream",
     "text": [
      "Extracting data/MNIST/raw/train-labels-idx1-ubyte.gz to data/MNIST/raw\n",
      "Downloading http://yann.lecun.com/exdb/mnist/t10k-images-idx3-ubyte.gz to data/MNIST/raw/t10k-images-idx3-ubyte.gz\n"
     ]
    },
    {
     "name": "stderr",
     "output_type": "stream",
     "text": [
      "100.4%"
     ]
    },
    {
     "name": "stdout",
     "output_type": "stream",
     "text": [
      "Extracting data/MNIST/raw/t10k-images-idx3-ubyte.gz to data/MNIST/raw\n",
      "Downloading http://yann.lecun.com/exdb/mnist/t10k-labels-idx1-ubyte.gz to data/MNIST/raw/t10k-labels-idx1-ubyte.gz\n"
     ]
    },
    {
     "name": "stderr",
     "output_type": "stream",
     "text": [
      "180.4%"
     ]
    },
    {
     "name": "stdout",
     "output_type": "stream",
     "text": [
      "Extracting data/MNIST/raw/t10k-labels-idx1-ubyte.gz to data/MNIST/raw\n",
      "Processing...\n",
      "Done!\n"
     ]
    },
    {
     "name": "stderr",
     "output_type": "stream",
     "text": [
      "/home/timo/.local/lib/python3.8/site-packages/torchvision/datasets/mnist.py:480: UserWarning: The given NumPy array is not writeable, and PyTorch does not support non-writeable tensors. This means you can write to the underlying (supposedly non-writeable) NumPy array using the tensor. You may want to copy the array to protect its data or make it writeable before converting it to a tensor. This type of warning will be suppressed for the rest of this program. (Triggered internally at  /pytorch/torch/csrc/utils/tensor_numpy.cpp:141.)\n",
      "  return torch.from_numpy(parsed.astype(m[2], copy=False)).view(*s)\n",
      "/home/timo/.local/lib/python3.8/site-packages/torchvision/datasets/mnist.py:58: UserWarning: train_data has been renamed data\n",
      "  warnings.warn(\"train_data has been renamed data\")\n",
      "/home/timo/.local/lib/python3.8/site-packages/torchvision/datasets/mnist.py:48: UserWarning: train_labels has been renamed targets\n",
      "  warnings.warn(\"train_labels has been renamed targets\")\n",
      "/home/timo/.local/lib/python3.8/site-packages/torchvision/datasets/mnist.py:63: UserWarning: test_data has been renamed data\n",
      "  warnings.warn(\"test_data has been renamed data\")\n",
      "/home/timo/.local/lib/python3.8/site-packages/torchvision/datasets/mnist.py:53: UserWarning: test_labels has been renamed targets\n",
      "  warnings.warn(\"test_labels has been renamed targets\")\n"
     ]
    }
   ],
   "source": [
    "\n",
    "data_dir = 'data'\n",
    "# MNIST dataset\n",
    "dataset = torchvision.datasets.MNIST(root=data_dir,\n",
    "                                     train=True,\n",
    "                                     transform=transforms.ToTensor(),\n",
    "                                     download=True)\n",
    "train_data = (dataset.train_data/255.).to(device)\n",
    "train_labels = dataset.train_labels.to(device)\n",
    "testset = torchvision.datasets.MNIST(data_dir, train=False, download=True, transform=transforms.ToTensor())\n",
    "test_data = (testset.test_data/255.).to(device)\n",
    "test_labels = testset.test_labels.to(device)"
   ]
  },
  {
   "cell_type": "code",
   "execution_count": 31,
   "metadata": {},
   "outputs": [],
   "source": [
    "#the network uses masks to avoid training some weights. \n",
    "class Net(nn.Module):\n",
    "    def __init__(self):\n",
    "        super(Net, self).__init__()\n",
    "        self.conv1 = nn.Conv2d(1, 6, 5, bias=False)\n",
    "        self.pool = nn.MaxPool2d(2, 2)\n",
    "        self.conv2 = nn.Conv2d(6, 16, 5, bias=False)\n",
    "        self.conv3 = nn.Conv2d(16, 120, 4, bias=False)\n",
    "        self.fc1 = nn.Linear(120, 84, bias=False)\n",
    "        self.fc2 = nn.Linear(84, 10, bias=False)\n",
    "\n",
    "    def forward(self, x):\n",
    "        x = self.pool(F.relu(self.conv1(x)))\n",
    "        x = self.pool(F.relu(self.conv2(x)))\n",
    "        x = F.relu(self.conv3(x))\n",
    "        x = x.view(-1, 120)\n",
    "        x = F.relu(self.fc1(x))\n",
    "        x = self.fc2(x)\n",
    "        return x\n",
    "    def prune_weights(self, amount):\n",
    "        parameters_to_prune = (\n",
    "            (self.conv1, 'weight'),\n",
    "            (self.conv2, 'weight'),\n",
    "            (self.conv3, 'weight'),\n",
    "            (self.fc1, 'weight'),\n",
    "            (self.fc2, 'weight'),\n",
    "        )\n",
    "\n",
    "        prune.global_unstructured(\n",
    "            parameters_to_prune,\n",
    "            pruning_method=prune.L1Unstructured,\n",
    "            amount=amount,\n",
    "        )"
   ]
  },
  {
   "cell_type": "code",
   "execution_count": 32,
   "metadata": {},
   "outputs": [],
   "source": [
    "import random\n",
    "def iter_batch(L1, L2, batch_size, shuffle = False):\n",
    "    I = list(range(len(L1)//batch_size))\n",
    "    if shuffle:\n",
    "        random.shuffle(I)\n",
    "    for i in I:\n",
    "        yield L1[batch_size*i:batch_size*(i+1), None], L2[batch_size*i:batch_size*(i+1)]"
   ]
  },
  {
   "cell_type": "code",
   "execution_count": 33,
   "metadata": {},
   "outputs": [],
   "source": [
    "def test(model, test_data, test_labels):\n",
    "    correct = 0\n",
    "    total = 0\n",
    "    with torch.no_grad():\n",
    "        for data, labels in iter_batch(test_data, test_labels, 10):\n",
    "            outputs = model(data)\n",
    "            _, predicted = torch.max(outputs.data, 1)\n",
    "\n",
    "            total += labels.size(0)\n",
    "            correct += (predicted == labels).sum().item()\n",
    "\n",
    "    print('Accuracy of the network on the %d test images: %f %%' % (\n",
    "        len(test_data), 100 * correct / total))\n",
    "    return 100 * correct / total"
   ]
  },
  {
   "cell_type": "code",
   "execution_count": 34,
   "metadata": {},
   "outputs": [],
   "source": [
    "def n_params(model):\n",
    "    print(\"Layer conv1 : \", torch.sum(model.conv1.weight_mask).item(), \" / \", torch.sum(1*model.conv1.weight_mask >= 0).item())\n",
    "    print(\"Layer conv2 : \", torch.sum(model.conv2.weight_mask).item(), \" / \", torch.sum(1*model.conv2.weight_mask >= 0).item())\n",
    "    print(\"Layer conv3 : \", torch.sum(model.conv3.weight_mask).item(), \" / \", torch.sum(1*model.conv3.weight_mask >= 0).item())\n",
    "    print(\"Layer fc1 : \", torch.sum(model.fc1.weight_mask).item(), \" / \", torch.sum(1*model.fc1.weight_mask >= 0).item())\n",
    "    print(\"Layer fc2 : \", torch.sum(model.fc2.weight_mask).item(), \" / \", torch.sum(1*model.fc2.weight_mask >= 0).item())"
   ]
  },
  {
   "cell_type": "markdown",
   "metadata": {},
   "source": [
    "Initial training of the network"
   ]
  },
  {
   "cell_type": "code",
   "execution_count": 35,
   "metadata": {
    "scrolled": false
   },
   "outputs": [
    {
     "name": "stdout",
     "output_type": "stream",
     "text": [
      "Accuracy of the network on the 10000 test images: 97.090000 %\n",
      "Accuracy of the network on the 10000 test images: 98.200000 %\n",
      "Accuracy of the network on the 10000 test images: 97.820000 %\n",
      "Pruned 20% of weights\n",
      "Accuracy of the network on the 10000 test images: 97.850000 %\n",
      "Accuracy of the network on the 10000 test images: 98.580000 %\n",
      "Accuracy of the network on the 10000 test images: 98.430000 %\n",
      "Accuracy of the network on the 10000 test images: 98.790000 %\n",
      "Pruned 20% of weights\n",
      "Accuracy of the network on the 10000 test images: 98.770000 %\n",
      "Accuracy of the network on the 10000 test images: 98.270000 %\n",
      "Accuracy of the network on the 10000 test images: 98.270000 %\n",
      "Accuracy of the network on the 10000 test images: 98.810000 %\n",
      "Pruned 20% of weights\n",
      "Accuracy of the network on the 10000 test images: 98.850000 %\n",
      "Accuracy of the network on the 10000 test images: 98.980000 %\n",
      "Accuracy of the network on the 10000 test images: 98.590000 %\n",
      "Accuracy of the network on the 10000 test images: 98.650000 %\n",
      "Pruned 20% of weights\n",
      "Accuracy of the network on the 10000 test images: 98.630000 %\n",
      "Accuracy of the network on the 10000 test images: 98.930000 %\n",
      "Accuracy of the network on the 10000 test images: 98.920000 %\n",
      "Accuracy of the network on the 10000 test images: 99.020000 %\n",
      "Pruned 20% of weights\n",
      "Accuracy of the network on the 10000 test images: 98.950000 %\n",
      "Accuracy of the network on the 10000 test images: 99.040000 %\n",
      "Accuracy of the network on the 10000 test images: 98.240000 %\n",
      "Accuracy of the network on the 10000 test images: 98.740000 %\n",
      "Pruned 20% of weights\n",
      "Accuracy of the network on the 10000 test images: 98.520000 %\n",
      "Accuracy of the network on the 10000 test images: 98.910000 %\n",
      "Accuracy of the network on the 10000 test images: 98.840000 %\n",
      "Accuracy of the network on the 10000 test images: 98.650000 %\n",
      "Pruned 20% of weights\n",
      "Accuracy of the network on the 10000 test images: 98.600000 %\n",
      "Accuracy of the network on the 10000 test images: 98.750000 %\n",
      "Accuracy of the network on the 10000 test images: 98.910000 %\n",
      "Accuracy of the network on the 10000 test images: 98.640000 %\n",
      "Pruned 20% of weights\n",
      "Accuracy of the network on the 10000 test images: 98.380000 %\n",
      "Accuracy of the network on the 10000 test images: 98.740000 %\n",
      "Accuracy of the network on the 10000 test images: 98.910000 %\n",
      "Accuracy of the network on the 10000 test images: 98.800000 %\n",
      "Pruned 20% of weights\n",
      "Accuracy of the network on the 10000 test images: 97.760000 %\n",
      "Accuracy of the network on the 10000 test images: 98.840000 %\n",
      "Accuracy of the network on the 10000 test images: 98.870000 %\n",
      "Accuracy of the network on the 10000 test images: 98.970000 %\n",
      "Pruned 20% of weights\n",
      "Accuracy of the network on the 10000 test images: 98.230000 %\n",
      "Accuracy of the network on the 10000 test images: 98.950000 %\n",
      "Accuracy of the network on the 10000 test images: 98.960000 %\n",
      "Accuracy of the network on the 10000 test images: 99.050000 %\n",
      "Pruned 20% of weights\n",
      "Accuracy of the network on the 10000 test images: 98.630000 %\n",
      "Accuracy of the network on the 10000 test images: 98.640000 %\n",
      "Accuracy of the network on the 10000 test images: 98.970000 %\n",
      "Accuracy of the network on the 10000 test images: 98.820000 %\n",
      "Pruned 20% of weights\n",
      "Accuracy of the network on the 10000 test images: 97.310000 %\n",
      "Accuracy of the network on the 10000 test images: 99.010000 %\n",
      "Accuracy of the network on the 10000 test images: 99.040000 %\n",
      "Accuracy of the network on the 10000 test images: 99.010000 %\n",
      "Pruned 20% of weights\n",
      "Accuracy of the network on the 10000 test images: 98.280000 %\n",
      "Accuracy of the network on the 10000 test images: 98.860000 %\n",
      "Accuracy of the network on the 10000 test images: 98.810000 %\n",
      "Accuracy of the network on the 10000 test images: 98.900000 %\n",
      "Pruned 20% of weights\n",
      "Accuracy of the network on the 10000 test images: 97.020000 %\n",
      "Accuracy of the network on the 10000 test images: 98.850000 %\n",
      "Accuracy of the network on the 10000 test images: 98.960000 %\n",
      "Accuracy of the network on the 10000 test images: 98.890000 %\n",
      "Pruned 20% of weights\n",
      "Accuracy of the network on the 10000 test images: 97.610000 %\n",
      "Accuracy of the network on the 10000 test images: 98.780000 %\n",
      "Accuracy of the network on the 10000 test images: 98.860000 %\n",
      "Accuracy of the network on the 10000 test images: 98.560000 %\n",
      "Pruned 20% of weights\n",
      "Accuracy of the network on the 10000 test images: 92.720000 %\n",
      "Accuracy of the network on the 10000 test images: 98.430000 %\n",
      "Accuracy of the network on the 10000 test images: 98.290000 %\n",
      "Accuracy of the network on the 10000 test images: 98.640000 %\n",
      "Pruned 20% of weights\n",
      "Accuracy of the network on the 10000 test images: 97.170000 %\n",
      "Accuracy of the network on the 10000 test images: 98.670000 %\n",
      "Accuracy of the network on the 10000 test images: 98.380000 %\n",
      "Accuracy of the network on the 10000 test images: 98.590000 %\n",
      "Pruned 20% of weights\n",
      "Accuracy of the network on the 10000 test images: 94.620000 %\n",
      "Accuracy of the network on the 10000 test images: 98.230000 %\n",
      "Accuracy of the network on the 10000 test images: 98.320000 %\n",
      "Accuracy of the network on the 10000 test images: 98.350000 %\n",
      "Accuracy of the network on the 10000 test images: 98.470000 %\n",
      "Accuracy of the network on the 10000 test images: 98.460000 %\n",
      "Accuracy of the network on the 10000 test images: 98.550000 %\n",
      "Accuracy of the network on the 10000 test images: 98.560000 %\n",
      "Accuracy of the network on the 10000 test images: 98.450000 %\n",
      "Accuracy of the network on the 10000 test images: 98.430000 %\n",
      "Accuracy of the network on the 10000 test images: 98.640000 %\n",
      "Accuracy of the network on the 10000 test images: 98.460000 %\n",
      "Accuracy of the network on the 10000 test images: 98.570000 %\n",
      "Accuracy of the network on the 10000 test images: 98.550000 %\n",
      "Accuracy of the network on the 10000 test images: 98.500000 %\n",
      "Accuracy of the network on the 10000 test images: 98.690000 %\n",
      "Accuracy of the network on the 10000 test images: 98.530000 %\n",
      "Accuracy of the network on the 10000 test images: 98.670000 %\n",
      "Accuracy of the network on the 10000 test images: 98.530000 %\n",
      "Accuracy of the network on the 10000 test images: 98.540000 %\n",
      "Accuracy of the network on the 10000 test images: 98.630000 %\n",
      "Accuracy of the network on the 10000 test images: 98.600000 %\n",
      "Accuracy of the network on the 10000 test images: 98.650000 %\n",
      "Accuracy of the network on the 10000 test images: 98.700000 %\n",
      "Accuracy of the network on the 10000 test images: 98.540000 %\n",
      "Accuracy of the network on the 10000 test images: 98.630000 %\n",
      "Accuracy of the network on the 10000 test images: 98.700000 %\n",
      "Accuracy of the network on the 10000 test images: 98.560000 %\n",
      "Accuracy of the network on the 10000 test images: 98.530000 %\n",
      "Accuracy of the network on the 10000 test images: 98.610000 %\n",
      "Accuracy of the network on the 10000 test images: 98.590000 %\n"
     ]
    }
   ],
   "source": [
    "import torch.optim as optim\n",
    "batch_size = 64\n",
    "criterion = nn.CrossEntropyLoss()\n",
    "net = Net().to(device)\n",
    "optimizer = optim.SGD(net.parameters(), lr=1.5e-2, momentum=0.9, weight_decay=2e-3)\n",
    "n_epochs = 3\n",
    "final_epochs = 30\n",
    "n_prune = 18\n",
    "for i_prune in range(n_prune):\n",
    "    for epoch in range(n_epochs):  # loop over the dataset multiple times\n",
    "                for inputs, labels in iter_batch(train_data, train_labels, batch_size, shuffle=True):\n",
    "                        optimizer.zero_grad()\n",
    "                        output = net(inputs)\n",
    "                        loss = criterion(output, labels)\n",
    "                        loss.backward()\n",
    "                        optimizer.step()\n",
    "                test(net, test_data, test_labels)\n",
    "    net.prune_weights(0.2)\n",
    "    print(\"Pruned 20% of weights\")\n",
    "    test(net, test_data, test_labels)\n",
    "#final training phase with low learning rate\n",
    "optimizer = optim.SGD(net.parameters(), lr=5e-3)\n",
    "batch_size = 32\n",
    "for epoch in range(final_epochs):  # loop over the dataset multiple times\n",
    "        for inputs, labels in iter_batch(train_data, train_labels, batch_size, shuffle=True):\n",
    "                optimizer.zero_grad()\n",
    "                output = net(inputs)\n",
    "                loss = criterion(output, labels)\n",
    "                loss.backward()\n",
    "                optimizer.step()\n",
    "        test(net, test_data, test_labels)"
   ]
  },
  {
   "cell_type": "code",
   "execution_count": 36,
   "metadata": {
    "scrolled": true
   },
   "outputs": [
    {
     "name": "stdout",
     "output_type": "stream",
     "text": [
      "Layer conv1 :  68.0  /  150\n",
      "Layer conv2 :  189.0  /  2400\n",
      "Layer conv3 :  259.0  /  30720\n",
      "Layer fc1 :  177.0  /  10080\n",
      "Layer fc2 :  103.0  /  840\n"
     ]
    }
   ],
   "source": [
    "n_params(net)"
   ]
  },
  {
   "cell_type": "code",
   "execution_count": 38,
   "metadata": {},
   "outputs": [],
   "source": [
    "import pickle\n",
    "\n",
    "pkl_file = open('training_data/conv1_weights.pkl', 'wb')\n",
    "pickle.dump(net.conv1.weight.data.cpu().detach().numpy().tolist(), pkl_file)\n",
    "pkl_file.close()\n",
    "\n",
    "pkl_file = open('training_data/conv2_weights.pkl', 'wb')\n",
    "pickle.dump(net.conv2.weight.data.cpu().detach().numpy().tolist(), pkl_file)\n",
    "pkl_file.close()\n",
    "\n",
    "pkl_file = open('training_data/conv3_weights.pkl', 'wb')\n",
    "pickle.dump(net.conv3.weight.data.cpu().detach().numpy().tolist(), pkl_file)\n",
    "pkl_file.close()\n",
    "\n",
    "pkl_file = open('training_data/fc1_weights.pkl', 'wb')\n",
    "pickle.dump(net.fc1.weight.data.cpu().detach().numpy().tolist(), pkl_file)\n",
    "pkl_file.close()\n",
    "\n",
    "pkl_file = open('training_data/fc2_weights.pkl', 'wb')\n",
    "pickle.dump(net.fc2.weight.data.cpu().detach().numpy().tolist(), pkl_file)\n",
    "pkl_file.close()"
   ]
  }
 ],
 "metadata": {
  "kernelspec": {
   "display_name": "Python 3",
   "language": "python",
   "name": "python3"
  },
  "language_info": {
   "codemirror_mode": {
    "name": "ipython",
    "version": 3
   },
   "file_extension": ".py",
   "mimetype": "text/x-python",
   "name": "python",
   "nbconvert_exporter": "python",
   "pygments_lexer": "ipython3",
   "version": "3.8.5"
  }
 },
 "nbformat": 4,
 "nbformat_minor": 4
}
